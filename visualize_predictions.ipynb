{
 "cells": [
  {
   "cell_type": "code",
   "execution_count": 1,
   "metadata": {},
   "outputs": [
    {
     "name": "stdout",
     "output_type": "stream",
     "text": [
      "Jupyter environment detected. Enabling Open3D WebVisualizer.\n",
      "[Open3D INFO] WebRTC GUI backend enabled.\n",
      "[Open3D INFO] WebRTCWindowSystem: HTTP handshake server disabled.\n"
     ]
    },
    {
     "ename": "FileNotFoundError",
     "evalue": "[Errno 2] No such file or directory: 'log/PointAttN_cd_debug_pcn/all/batch3_sample2_input.obj'",
     "output_type": "error",
     "traceback": [
      "\u001b[0;31m---------------------------------------------------------------------------\u001b[0m",
      "\u001b[0;31mFileNotFoundError\u001b[0m                         Traceback (most recent call last)",
      "Cell \u001b[0;32mIn[1], line 78\u001b[0m\n\u001b[1;32m     75\u001b[0m         visualize_sample_pair(sample_idx, batch_idx)\n\u001b[1;32m     77\u001b[0m \u001b[39m# Example usage:\u001b[39;00m\n\u001b[0;32m---> 78\u001b[0m visualize_sample_pair(\u001b[39m2\u001b[39;49m, \u001b[39m3\u001b[39;49m)  \u001b[39m# Visualize a single sample\u001b[39;00m\n\u001b[1;32m     79\u001b[0m \u001b[39m#visualize_all_samples()      # Visualize all samples\u001b[39;00m\n",
      "Cell \u001b[0;32mIn[1], line 37\u001b[0m, in \u001b[0;36mvisualize_sample_pair\u001b[0;34m(sample_idx, batch_idx)\u001b[0m\n\u001b[1;32m     34\u001b[0m inter_file \u001b[39m=\u001b[39m \u001b[39mf\u001b[39m\u001b[39m\"\u001b[39m\u001b[39mbatch\u001b[39m\u001b[39m{\u001b[39;00mbatch_idx\u001b[39m}\u001b[39;00m\u001b[39m_sample\u001b[39m\u001b[39m{\u001b[39;00msample_idx\u001b[39m}\u001b[39;00m\u001b[39m_output_inter.obj\u001b[39m\u001b[39m\"\u001b[39m\n\u001b[1;32m     36\u001b[0m \u001b[39m# Load points\u001b[39;00m\n\u001b[0;32m---> 37\u001b[0m input_points \u001b[39m=\u001b[39m load_obj_points(os\u001b[39m.\u001b[39;49mpath\u001b[39m.\u001b[39;49mjoin(base_path, input_file))\n\u001b[1;32m     38\u001b[0m output_points \u001b[39m=\u001b[39m load_obj_points(os\u001b[39m.\u001b[39mpath\u001b[39m.\u001b[39mjoin(base_path, output_file))\n\u001b[1;32m     39\u001b[0m inter_points \u001b[39m=\u001b[39m load_obj_points(os\u001b[39m.\u001b[39mpath\u001b[39m.\u001b[39mjoin(base_path, inter_file))\n",
      "Cell \u001b[0;32mIn[1], line 7\u001b[0m, in \u001b[0;36mload_obj_points\u001b[0;34m(file_path)\u001b[0m\n\u001b[1;32m      5\u001b[0m \u001b[39mdef\u001b[39;00m\u001b[39m \u001b[39m\u001b[39mload_obj_points\u001b[39m(file_path):\n\u001b[1;32m      6\u001b[0m     points \u001b[39m=\u001b[39m []\n\u001b[0;32m----> 7\u001b[0m     \u001b[39mwith\u001b[39;00m \u001b[39mopen\u001b[39;49m(file_path, \u001b[39m'\u001b[39;49m\u001b[39mr\u001b[39;49m\u001b[39m'\u001b[39;49m) \u001b[39mas\u001b[39;00m f:\n\u001b[1;32m      8\u001b[0m         \u001b[39mfor\u001b[39;00m line \u001b[39min\u001b[39;00m f:\n\u001b[1;32m      9\u001b[0m             \u001b[39mif\u001b[39;00m line\u001b[39m.\u001b[39mstartswith(\u001b[39m'\u001b[39m\u001b[39mv \u001b[39m\u001b[39m'\u001b[39m):  \u001b[39m# vertex data\u001b[39;00m\n",
      "File \u001b[0;32m~/.local/lib/python3.10/site-packages/IPython/core/interactiveshell.py:324\u001b[0m, in \u001b[0;36m_modified_open\u001b[0;34m(file, *args, **kwargs)\u001b[0m\n\u001b[1;32m    317\u001b[0m \u001b[39mif\u001b[39;00m file \u001b[39min\u001b[39;00m {\u001b[39m0\u001b[39m, \u001b[39m1\u001b[39m, \u001b[39m2\u001b[39m}:\n\u001b[1;32m    318\u001b[0m     \u001b[39mraise\u001b[39;00m \u001b[39mValueError\u001b[39;00m(\n\u001b[1;32m    319\u001b[0m         \u001b[39mf\u001b[39m\u001b[39m\"\u001b[39m\u001b[39mIPython won\u001b[39m\u001b[39m'\u001b[39m\u001b[39mt let you open fd=\u001b[39m\u001b[39m{\u001b[39;00mfile\u001b[39m}\u001b[39;00m\u001b[39m by default \u001b[39m\u001b[39m\"\u001b[39m\n\u001b[1;32m    320\u001b[0m         \u001b[39m\"\u001b[39m\u001b[39mas it is likely to crash IPython. If you know what you are doing, \u001b[39m\u001b[39m\"\u001b[39m\n\u001b[1;32m    321\u001b[0m         \u001b[39m\"\u001b[39m\u001b[39myou can use builtins\u001b[39m\u001b[39m'\u001b[39m\u001b[39m open.\u001b[39m\u001b[39m\"\u001b[39m\n\u001b[1;32m    322\u001b[0m     )\n\u001b[0;32m--> 324\u001b[0m \u001b[39mreturn\u001b[39;00m io_open(file, \u001b[39m*\u001b[39;49margs, \u001b[39m*\u001b[39;49m\u001b[39m*\u001b[39;49mkwargs)\n",
      "\u001b[0;31mFileNotFoundError\u001b[0m: [Errno 2] No such file or directory: 'log/PointAttN_cd_debug_pcn/all/batch3_sample2_input.obj'"
     ]
    }
   ],
   "source": [
    "import os\n",
    "import numpy as np\n",
    "import open3d as o3d\n",
    "\n",
    "def load_obj_points(file_path):\n",
    "    points = []\n",
    "    with open(file_path, 'r') as f:\n",
    "        for line in f:\n",
    "            if line.startswith('v '):  # vertex data\n",
    "                coords = line.strip().split()[1:]  # skip the 'v' and get coordinates\n",
    "                points.append([float(x) for x in coords])\n",
    "    return np.array(points)\n",
    "\n",
    "def create_point_cloud(points, color=[0.5, 0.5, 0.5]):\n",
    "    pcd = o3d.geometry.PointCloud()\n",
    "    pcd.points = o3d.utility.Vector3dVector(points)\n",
    "    pcd.paint_uniform_color(color)\n",
    "    return pcd\n",
    "\n",
    "def visualize_point_cloud(points, window_name=\"Point Cloud\"):\n",
    "    pcd = create_point_cloud(points)\n",
    "    viewer = o3d.visualization.Visualizer()\n",
    "    viewer.create_window(window_name=window_name)\n",
    "    viewer.add_geometry(pcd)\n",
    "    viewer.get_render_option().point_size = 1.0\n",
    "    viewer.get_render_option().background_color = np.array([255,255, 255])\n",
    "    viewer.run()\n",
    "    viewer.destroy_window()\n",
    "\n",
    "def visualize_sample_pair(sample_idx=0, batch_idx=0):\n",
    "    base_path = \"log/PointAttN_cd_debug_pcn/all\"\n",
    "    input_file = f\"batch{batch_idx}_sample{sample_idx}_input.obj\"\n",
    "    output_file = f\"batch{batch_idx}_sample{sample_idx}_gt.obj\"\n",
    "    inter_file = f\"batch{batch_idx}_sample{sample_idx}_output_inter.obj\"\n",
    "    \n",
    "    # Load points\n",
    "    input_points = load_obj_points(os.path.join(base_path, input_file))\n",
    "    output_points = load_obj_points(os.path.join(base_path, output_file))\n",
    "    inter_points = load_obj_points(os.path.join(base_path, inter_file))\n",
    "    \n",
    "    # Create point clouds with different colors\n",
    "    input_pcd = create_point_cloud(input_points, [1, 0, 0])    # Red\n",
    "    output_pcd = create_point_cloud(output_points, [0, 1, 0])  # Green\n",
    "    inter_pcd = create_point_cloud(inter_points, [0, 0, 1])    # Blue\n",
    "    \n",
    "    # Visualize all point clouds in one window\n",
    "    viewer = o3d.visualization.Visualizer()\n",
    "    viewer.create_window(window_name=f\"Sample {sample_idx} Visualization\")\n",
    "    #viewer.add_geometry(input_pcd)\n",
    "    viewer.add_geometry(output_pcd)\n",
    "    viewer.add_geometry(inter_pcd)\n",
    "    \n",
    "    # Customize visualization\n",
    "    opt = viewer.get_render_option()\n",
    "    opt.background_color = np.array([255, 255, 255])\n",
    "    \n",
    "    viewer.run()\n",
    "    viewer.destroy_window()\n",
    "\n",
    "def visualize_all_samples():\n",
    "    base_path = \"log/PointAttN_cd_debug_pcn\"\n",
    "    files = os.listdir(base_path)\n",
    "    output_files = [f for f in files if f.endswith('output.obj')]\n",
    "    \n",
    "    # Extract unique batch and sample indices\n",
    "    indices = set()\n",
    "    for f in output_files:\n",
    "        batch_idx = int(f[5:f.find('_sample')])\n",
    "        sample_idx = int(f[f.find('sample')+6:f.find('_output')])\n",
    "        indices.add((batch_idx, sample_idx))\n",
    "    \n",
    "    # Visualize each sample pair\n",
    "    for batch_idx, sample_idx in sorted(indices):\n",
    "        print(f\"Visualizing batch {batch_idx}, sample {sample_idx}\")\n",
    "        visualize_sample_pair(sample_idx, batch_idx)\n",
    "\n",
    "# Example usage:\n",
    "visualize_sample_pair(2, 3)  # Visualize a single sample\n",
    "#visualize_all_samples()      # Visualize all samples"
   ]
  }
 ],
 "metadata": {
  "kernelspec": {
   "display_name": "aser",
   "language": "python",
   "name": "python3"
  },
  "language_info": {
   "codemirror_mode": {
    "name": "ipython",
    "version": 3
   },
   "file_extension": ".py",
   "mimetype": "text/x-python",
   "name": "python",
   "nbconvert_exporter": "python",
   "pygments_lexer": "ipython3",
   "version": "3.10.16"
  }
 },
 "nbformat": 4,
 "nbformat_minor": 2
}
